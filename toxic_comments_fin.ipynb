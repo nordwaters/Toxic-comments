{
 "cells": [
  {
   "cell_type": "markdown",
   "metadata": {
    "toc": true
   },
   "source": [
    "<h1>Содержание<span class=\"tocSkip\"></span></h1>\n",
    "<div class=\"toc\"><ul class=\"toc-item\"><li><span><a href=\"#Подготовка\" data-toc-modified-id=\"Подготовка-1\"><span class=\"toc-item-num\">1&nbsp;&nbsp;</span>Подготовка</a></span><ul class=\"toc-item\"><li><span><a href=\"#Предварительный-анализ-полученных-данных:\" data-toc-modified-id=\"Предварительный-анализ-полученных-данных:-1.1\"><span class=\"toc-item-num\">1.1&nbsp;&nbsp;</span>Предварительный анализ полученных данных:</a></span></li><li><span><a href=\"#Лемматизация\" data-toc-modified-id=\"Лемматизация-1.2\"><span class=\"toc-item-num\">1.2&nbsp;&nbsp;</span>Лемматизация</a></span></li><li><span><a href=\"#Очистка-текста\" data-toc-modified-id=\"Очистка-текста-1.3\"><span class=\"toc-item-num\">1.3&nbsp;&nbsp;</span>Очистка текста</a></span></li><li><span><a href=\"#Wordnet-Lemmatizer-с-соответствующим-POS-тегом\" data-toc-modified-id=\"Wordnet-Lemmatizer-с-соответствующим-POS-тегом-1.4\"><span class=\"toc-item-num\">1.4&nbsp;&nbsp;</span>Wordnet Lemmatizer с соответствующим POS-тегом</a></span></li><li><span><a href=\"#Проверка-дисбаланса\" data-toc-modified-id=\"Проверка-дисбаланса-1.5\"><span class=\"toc-item-num\">1.5&nbsp;&nbsp;</span>Проверка дисбаланса</a></span></li><li><span><a href=\"#Стоп-слова\" data-toc-modified-id=\"Стоп-слова-1.6\"><span class=\"toc-item-num\">1.6&nbsp;&nbsp;</span>Стоп-слова</a></span></li><li><span><a href=\"#Выводы-по-предобработке-данных:\" data-toc-modified-id=\"Выводы-по-предобработке-данных:-1.7\"><span class=\"toc-item-num\">1.7&nbsp;&nbsp;</span>Выводы по предобработке данных:</a></span></li></ul></li><li><span><a href=\"#Обучение\" data-toc-modified-id=\"Обучение-2\"><span class=\"toc-item-num\">2&nbsp;&nbsp;</span>Обучение</a></span><ul class=\"toc-item\"><li><span><a href=\"#DummyRegressor\" data-toc-modified-id=\"DummyRegressor-2.1\"><span class=\"toc-item-num\">2.1&nbsp;&nbsp;</span>DummyRegressor</a></span></li><li><span><a href=\"#Логистическая-регрессия-на-обучающей-выборке\" data-toc-modified-id=\"Логистическая-регрессия-на-обучающей-выборке-2.2\"><span class=\"toc-item-num\">2.2&nbsp;&nbsp;</span>Логистическая регрессия на обучающей выборке</a></span></li><li><span><a href=\"#Случайный-лес-на-обучающей-выборке\" data-toc-modified-id=\"Случайный-лес-на-обучающей-выборке-2.3\"><span class=\"toc-item-num\">2.3&nbsp;&nbsp;</span>Случайный лес на обучающей выборке</a></span></li><li><span><a href=\"#CatBoost\" data-toc-modified-id=\"CatBoost-2.4\"><span class=\"toc-item-num\">2.4&nbsp;&nbsp;</span>CatBoost</a></span></li><li><span><a href=\"#LGBMClassifier\" data-toc-modified-id=\"LGBMClassifier-2.5\"><span class=\"toc-item-num\">2.5&nbsp;&nbsp;</span>LGBMClassifier</a></span></li><li><span><a href=\"#Тестирование\" data-toc-modified-id=\"Тестирование-2.6\"><span class=\"toc-item-num\">2.6&nbsp;&nbsp;</span>Тестирование</a></span></li><li><span><a href=\"#Итоговая-таблица\" data-toc-modified-id=\"Итоговая-таблица-2.7\"><span class=\"toc-item-num\">2.7&nbsp;&nbsp;</span>Итоговая таблица</a></span></li></ul></li><li><span><a href=\"#Выводы\" data-toc-modified-id=\"Выводы-3\"><span class=\"toc-item-num\">3&nbsp;&nbsp;</span>Выводы</a></span></li><li><span><a href=\"#Чек-лист-проверки\" data-toc-modified-id=\"Чек-лист-проверки-4\"><span class=\"toc-item-num\">4&nbsp;&nbsp;</span>Чек-лист проверки</a></span></li></ul></div>"
   ]
  },
  {
   "cell_type": "markdown",
   "metadata": {},
   "source": [
    "# Проект для «Викишоп»"
   ]
  },
  {
   "attachments": {},
   "cell_type": "markdown",
   "metadata": {},
   "source": [
    "Интернет-магазин Noname запускает новый сервис. Теперь пользователи могут редактировать и дополнять описания товаров, как в вики-сообществах. То есть клиенты предлагают свои правки и комментируют изменения других. Магазину нужен инструмент, который будет искать токсичные комментарии и отправлять их на модерацию. \n",
    "\n",
    "Обучите модель классифицировать комментарии на позитивные и негативные. В вашем распоряжении набор данных с разметкой о токсичности правок.\n",
    "\n",
    "<font color='green'><b>Постройте модель со значением метрики качества *F1* не меньше 0.75.</b></font>\n",
    "\n",
    " \n",
    "\n",
    "**Инструкция по выполнению проекта**\n",
    "\n",
    "1. Загрузите и подготовьте данные.\n",
    "2. Обучите разные модели. \n",
    "3. Сделайте выводы.\n",
    "\n",
    "Для выполнения проекта применять *BERT* необязательно, но вы можете попробовать.\n",
    "\n",
    "**Описание данных**\n",
    "\n",
    "Данные находятся в файле `toxic_comments.csv`. Столбец *text* в нём содержит текст комментария, а *toxic* — целевой признак."
   ]
  },
  {
   "cell_type": "markdown",
   "metadata": {},
   "source": [
    "## Подготовка"
   ]
  },
  {
   "cell_type": "code",
   "execution_count": 1,
   "metadata": {},
   "outputs": [
    {
     "name": "stderr",
     "output_type": "stream",
     "text": [
      "[nltk_data] Downloading package wordnet to\n",
      "[nltk_data]     C:\\Users\\user\\AppData\\Roaming\\nltk_data...\n",
      "[nltk_data]   Package wordnet is already up-to-date!\n",
      "[nltk_data] Downloading package averaged_perceptron_tagger to\n",
      "[nltk_data]     C:\\Users\\user\\AppData\\Roaming\\nltk_data...\n",
      "[nltk_data]   Package averaged_perceptron_tagger is already up-to-\n",
      "[nltk_data]       date!\n",
      "[nltk_data] Downloading package punkt to\n",
      "[nltk_data]     C:\\Users\\user\\AppData\\Roaming\\nltk_data...\n",
      "[nltk_data]   Package punkt is already up-to-date!\n",
      "[nltk_data] Downloading package omw-1.4 to\n",
      "[nltk_data]     C:\\Users\\user\\AppData\\Roaming\\nltk_data...\n",
      "[nltk_data]   Package omw-1.4 is already up-to-date!\n",
      "[nltk_data] Downloading package stopwords to\n",
      "[nltk_data]     C:\\Users\\user\\AppData\\Roaming\\nltk_data...\n",
      "[nltk_data]   Package stopwords is already up-to-date!\n"
     ]
    }
   ],
   "source": [
    "# Скачаем требуемые в работе модули\n",
    "\n",
    "import pandas as pd\n",
    "import numpy as np\n",
    "import matplotlib.pyplot as plt\n",
    "import seaborn as sns\n",
    "from pymystem3 import Mystem\n",
    "import re \n",
    "from tqdm import tqdm\n",
    "\n",
    "import nltk\n",
    "from nltk.corpus import stopwords as nltk_stopwords, wordnet as wn\n",
    "from nltk.stem import WordNetLemmatizer\n",
    "nltk.download('wordnet')\n",
    "nltk.download('averaged_perceptron_tagger')\n",
    "nltk.download('punkt')\n",
    "nltk.download('omw-1.4')\n",
    "nltk.download('stopwords')\n",
    "\n",
    "from sklearn.model_selection import train_test_split\n",
    "from sklearn.dummy import DummyClassifier\n",
    "from sklearn.tree import DecisionTreeClassifier\n",
    "from sklearn.linear_model import LogisticRegression\n",
    "from sklearn.ensemble import RandomForestClassifier\n",
    "from lightgbm import LGBMClassifier\n",
    "from sklearn.pipeline import Pipeline\n",
    "from catboost import CatBoostClassifier\n",
    "from sklearn.model_selection import GridSearchCV\n",
    "from tqdm.notebook import tqdm\n",
    "\n",
    "from sklearn.utils import shuffle, resample\n",
    "from sklearn.feature_extraction.text import CountVectorizer, TfidfVectorizer\n",
    "\n",
    "from sklearn.metrics import classification_report, precision_recall_curve, precision_score\n",
    "from sklearn.metrics import recall_score, roc_curve, roc_auc_score, f1_score\n",
    "from sklearn.metrics import confusion_matrix, make_scorer\n",
    "\n",
    "import time\n",
    "import warnings\n",
    "warnings.filterwarnings('ignore')"
   ]
  },
  {
   "cell_type": "code",
   "execution_count": 2,
   "metadata": {},
   "outputs": [],
   "source": [
    "# Назначим константу для random_state\n",
    "\n",
    "RANDOM_STATE = 0"
   ]
  },
  {
   "cell_type": "code",
   "execution_count": 3,
   "metadata": {},
   "outputs": [],
   "source": [
    "# Создадим датафреймы:\n",
    "try:\n",
    "    data = pd.read_csv('toxic_comments.csv', index_col= 0)\n",
    "    data.sort_index(inplace=True)\n",
    "except:\n",
    "    data = pd.read_csv('/datasets/toxic_comments.csv', index_col= 0) # если работа ведется в Яндекс Практикум\n",
    "    data.sort_index(inplace=True)"
   ]
  },
  {
   "cell_type": "code",
   "execution_count": 4,
   "metadata": {},
   "outputs": [
    {
     "name": "stdout",
     "output_type": "stream",
     "text": [
      "Общая информация\n",
      "\n",
      "<class 'pandas.core.frame.DataFrame'>\n",
      "Int64Index: 159292 entries, 0 to 159450\n",
      "Data columns (total 2 columns):\n",
      " #   Column  Non-Null Count   Dtype \n",
      "---  ------  --------------   ----- \n",
      " 0   text    159292 non-null  object\n",
      " 1   toxic   159292 non-null  int64 \n",
      "dtypes: int64(1), object(1)\n",
      "memory usage: 3.6+ MB\n"
     ]
    },
    {
     "data": {
      "text/plain": [
       "None"
      ]
     },
     "metadata": {},
     "output_type": "display_data"
    },
    {
     "name": "stdout",
     "output_type": "stream",
     "text": [
      "Первые строки датасета\n",
      "\n"
     ]
    },
    {
     "data": {
      "text/html": [
       "<div>\n",
       "<style scoped>\n",
       "    .dataframe tbody tr th:only-of-type {\n",
       "        vertical-align: middle;\n",
       "    }\n",
       "\n",
       "    .dataframe tbody tr th {\n",
       "        vertical-align: top;\n",
       "    }\n",
       "\n",
       "    .dataframe thead th {\n",
       "        text-align: right;\n",
       "    }\n",
       "</style>\n",
       "<table border=\"1\" class=\"dataframe\">\n",
       "  <thead>\n",
       "    <tr style=\"text-align: right;\">\n",
       "      <th></th>\n",
       "      <th>text</th>\n",
       "      <th>toxic</th>\n",
       "    </tr>\n",
       "  </thead>\n",
       "  <tbody>\n",
       "    <tr>\n",
       "      <th>0</th>\n",
       "      <td>Explanation\\nWhy the edits made under my usern...</td>\n",
       "      <td>0</td>\n",
       "    </tr>\n",
       "    <tr>\n",
       "      <th>1</th>\n",
       "      <td>D'aww! He matches this background colour I'm s...</td>\n",
       "      <td>0</td>\n",
       "    </tr>\n",
       "    <tr>\n",
       "      <th>2</th>\n",
       "      <td>Hey man, I'm really not trying to edit war. It...</td>\n",
       "      <td>0</td>\n",
       "    </tr>\n",
       "    <tr>\n",
       "      <th>3</th>\n",
       "      <td>\"\\nMore\\nI can't make any real suggestions on ...</td>\n",
       "      <td>0</td>\n",
       "    </tr>\n",
       "    <tr>\n",
       "      <th>4</th>\n",
       "      <td>You, sir, are my hero. Any chance you remember...</td>\n",
       "      <td>0</td>\n",
       "    </tr>\n",
       "  </tbody>\n",
       "</table>\n",
       "</div>"
      ],
      "text/plain": [
       "                                                text  toxic\n",
       "0  Explanation\\nWhy the edits made under my usern...      0\n",
       "1  D'aww! He matches this background colour I'm s...      0\n",
       "2  Hey man, I'm really not trying to edit war. It...      0\n",
       "3  \"\\nMore\\nI can't make any real suggestions on ...      0\n",
       "4  You, sir, are my hero. Any chance you remember...      0"
      ]
     },
     "metadata": {},
     "output_type": "display_data"
    },
    {
     "name": "stdout",
     "output_type": "stream",
     "text": [
      "Описательная статистика\n",
      "\n"
     ]
    },
    {
     "data": {
      "text/html": [
       "<div>\n",
       "<style scoped>\n",
       "    .dataframe tbody tr th:only-of-type {\n",
       "        vertical-align: middle;\n",
       "    }\n",
       "\n",
       "    .dataframe tbody tr th {\n",
       "        vertical-align: top;\n",
       "    }\n",
       "\n",
       "    .dataframe thead th {\n",
       "        text-align: right;\n",
       "    }\n",
       "</style>\n",
       "<table border=\"1\" class=\"dataframe\">\n",
       "  <thead>\n",
       "    <tr style=\"text-align: right;\">\n",
       "      <th></th>\n",
       "      <th>toxic</th>\n",
       "    </tr>\n",
       "  </thead>\n",
       "  <tbody>\n",
       "    <tr>\n",
       "      <th>count</th>\n",
       "      <td>159292.000000</td>\n",
       "    </tr>\n",
       "    <tr>\n",
       "      <th>mean</th>\n",
       "      <td>0.101612</td>\n",
       "    </tr>\n",
       "    <tr>\n",
       "      <th>std</th>\n",
       "      <td>0.302139</td>\n",
       "    </tr>\n",
       "    <tr>\n",
       "      <th>min</th>\n",
       "      <td>0.000000</td>\n",
       "    </tr>\n",
       "    <tr>\n",
       "      <th>25%</th>\n",
       "      <td>0.000000</td>\n",
       "    </tr>\n",
       "    <tr>\n",
       "      <th>50%</th>\n",
       "      <td>0.000000</td>\n",
       "    </tr>\n",
       "    <tr>\n",
       "      <th>75%</th>\n",
       "      <td>0.000000</td>\n",
       "    </tr>\n",
       "    <tr>\n",
       "      <th>max</th>\n",
       "      <td>1.000000</td>\n",
       "    </tr>\n",
       "  </tbody>\n",
       "</table>\n",
       "</div>"
      ],
      "text/plain": [
       "               toxic\n",
       "count  159292.000000\n",
       "mean        0.101612\n",
       "std         0.302139\n",
       "min         0.000000\n",
       "25%         0.000000\n",
       "50%         0.000000\n",
       "75%         0.000000\n",
       "max         1.000000"
      ]
     },
     "metadata": {},
     "output_type": "display_data"
    },
    {
     "name": "stdout",
     "output_type": "stream",
     "text": [
      "Количество пропусков в каждом столбце\n",
      "\n"
     ]
    },
    {
     "data": {
      "text/plain": [
       "text     0\n",
       "toxic    0\n",
       "dtype: int64"
      ]
     },
     "metadata": {},
     "output_type": "display_data"
    },
    {
     "name": "stdout",
     "output_type": "stream",
     "text": [
      "Количество уникальных значений\n",
      "\n"
     ]
    },
    {
     "data": {
      "text/plain": [
       "text     159292\n",
       "toxic         2\n",
       "dtype: int64"
      ]
     },
     "metadata": {},
     "output_type": "display_data"
    },
    {
     "name": "stdout",
     "output_type": "stream",
     "text": [
      "Форма и размер датасета\n",
      "\n"
     ]
    },
    {
     "data": {
      "text/plain": [
       "(159292, 2)"
      ]
     },
     "metadata": {},
     "output_type": "display_data"
    }
   ],
   "source": [
    "# посмотрим содержание полученных данных\n",
    "print('Общая информация\\n')\n",
    "display(data.info())\n",
    "print('Первые строки датасета\\n')\n",
    "display(data.head())\n",
    "print('Описательная статистика\\n')\n",
    "display(data.describe())\n",
    "print('Количество пропусков в каждом столбце\\n')\n",
    "display(data.isna().sum())\n",
    "print('Количество уникальных значений\\n')\n",
    "display(data.nunique())\n",
    "print('Форма и размер датасета\\n')\n",
    "display(data.shape)"
   ]
  },
  {
   "cell_type": "markdown",
   "metadata": {},
   "source": [
    "### Предварительный анализ полученных данных:\n",
    "\n",
    "- Пропуски не обнаружены,\n",
    "- Явные дубликаты не обнаружены,\n",
    "- Данные сохранены в правильных форматах,\n",
    "- Столбец с классификацией отзывов содержит только два значения, как и должно быть."
   ]
  },
  {
   "cell_type": "markdown",
   "metadata": {},
   "source": [
    "### Лемматизация"
   ]
  },
  {
   "cell_type": "code",
   "execution_count": 5,
   "metadata": {},
   "outputs": [
    {
     "name": "stdout",
     "output_type": "stream",
     "text": [
      "Explanation\n",
      "Why the edits made under my username Hardcore Metallica Fan were reverted? They weren't vandalisms, just closure on some GAs after I voted at New York Dolls FAC. And please don't remove the template from the talk page since I'm retired now.89.205.38.27\n"
     ]
    }
   ],
   "source": [
    "# Рассмотрим первый комментарий\n",
    "print(data['text'][0])"
   ]
  },
  {
   "cell_type": "markdown",
   "metadata": {},
   "source": [
    "В полученном примере можно заметить сокращения, которые используют апостроф, нужно заменить такие случаи на полные значения."
   ]
  },
  {
   "cell_type": "code",
   "execution_count": 6,
   "metadata": {},
   "outputs": [
    {
     "name": "stdout",
     "output_type": "stream",
     "text": [
      "explanation\n",
      "why the edits made under my username hardcore metallica fan were reverted? they were not vandalisms, just closure on some gas after i voted at new york dolls fac. and please do not remove the template from the talk page since i am retired now.89.205.38.27\n"
     ]
    }
   ],
   "source": [
    "# Проведем удаление апострофов\n",
    "data['text'] = data['text'].str.lower()\n",
    "data['text'] = data['text'].str.replace(r\"weren't\", \"were not\")\n",
    "data['text'] = data['text'].str.replace(r\"what's\", \"what is\")\n",
    "data['text'] = data['text'].str.replace(r\"it's\", \"it is\")\n",
    "data['text'] = data['text'].str.replace(r\"can't\", \"cannot\")\n",
    "data['text'] = data['text'].str.replace(r\"i'm\", \"i am\")\n",
    "data['text'] = data['text'].str.replace(r\"'d\", \" would\")\n",
    "data['text'] = data['text'].str.replace(r\"'ll\", \" will\")\n",
    "data['text'] = data['text'].str.replace(r\"'re\", \" are\")\n",
    "data['text'] = data['text'].str.replace(r\"n't\", \" not\")\n",
    "data['text'] = data['text'].str.replace(r\"'ve\", \" have\")\n",
    "\n",
    "# Проверим работу кода\n",
    "print(data['text'][0])"
   ]
  },
  {
   "cell_type": "code",
   "execution_count": 7,
   "metadata": {},
   "outputs": [
    {
     "name": "stdout",
     "output_type": "stream",
     "text": [
      "explanation\n",
      "why the edits made under my username hardcore metallica fan were reverted? they were not vandalisms, just closure on some gas after i voted at new york dolls fac. and please do not remove the template from the talk page since i am retired now.89.205.38.27\n"
     ]
    }
   ],
   "source": [
    "# Создадим корпус\n",
    "corpus = data['text'].values #.astype('U')\n",
    "# Проверим работу кода\n",
    "print(corpus[0])"
   ]
  },
  {
   "cell_type": "markdown",
   "metadata": {},
   "source": [
    "### Очистка текста"
   ]
  },
  {
   "attachments": {},
   "cell_type": "markdown",
   "metadata": {},
   "source": [
    "Для очистки текста нам потребутеся обработка при помощи функции re.sub(), которая находит в тексте все совпадения по шаблону и заменяет их заданной строкой:\n",
    "1) pattern — шаблон\n",
    "2) replacement — на что заменять\n",
    "3) text — текст, в котором искать совпадения\n",
    "\n",
    "Пример кода:\n",
    "\n",
    "re.sub(pattern, replacement, text)\n"
   ]
  },
  {
   "cell_type": "code",
   "execution_count": 8,
   "metadata": {},
   "outputs": [],
   "source": [
    "# Создадим функцию по очистке текста\n",
    "def clear_text(text):\n",
    "    y=re.sub(r\"[^'a-zA-Z ]\", ' ', text) \n",
    "    k=\" \".join(y.split())\n",
    "    return k"
   ]
  },
  {
   "cell_type": "markdown",
   "metadata": {},
   "source": [
    "WordNet® - большая лексическая база данных английского языка. Существительные, глаголы, прилагательные и наречия сгруппированы в наборы когнитивных синонимов (синонимов), каждый из которых выражает определённое понятие. Синсеты взаимосвязаны посредством понятийно-семантических и лексических отношений. (с официального сайта WordNet)"
   ]
  },
  {
   "cell_type": "markdown",
   "metadata": {},
   "source": [
    "### Wordnet Lemmatizer с соответствующим POS-тегом\n",
    "Достаточно сложно вручную проставить соответствующий POS-тег для каждого слова при обработке больших текстов. Поэтому вместо этого мы найдем правильный POS-тег для каждого слова, сопоставим его с правильным входным символом, который принимает WordnetLemmatizer, и передадим его в качестве второго аргумента в lemmatize().\n",
    "\n",
    "Как получить POS-тег для выбранного слова?\n",
    "\n",
    "В nltk для этого есть метод nltk.pos_tag(). Он принимает только список (список слов), даже если нужно передать только одно слово. \n",
    "nltk.pos_tag() возвращает кортеж с тегом POS. Ключевым моментом здесь является сопоставление POS-тегов NLTK с форматом, принятым лемматизатором wordnet.\n",
    "(из статьи в интернете)"
   ]
  },
  {
   "cell_type": "code",
   "execution_count": 9,
   "metadata": {},
   "outputs": [],
   "source": [
    "# Создадим функцию get_wordnet_pos для pos-тегов\n",
    "\n",
    "def get_wordnet_pos(word):\n",
    "    tag = nltk.pos_tag([word])[0][1][0].upper()\n",
    "    tag_dict = {\"J\": wn.ADJ,\n",
    "                \"N\": wn.NOUN,\n",
    "                \"V\": wn.VERB,\n",
    "                \"R\": wn.ADV}\n",
    "    return tag_dict.get(tag, wn.NOUN)"
   ]
  },
  {
   "cell_type": "code",
   "execution_count": 10,
   "metadata": {},
   "outputs": [],
   "source": [
    "# Создадим переменную для лемматайзера\n",
    "lemmatizer = WordNetLemmatizer()"
   ]
  },
  {
   "cell_type": "code",
   "execution_count": 11,
   "metadata": {},
   "outputs": [
    {
     "name": "stdout",
     "output_type": "stream",
     "text": [
      "['London', 'be', 'the', 'capital', 'of', 'Great', 'Britain']\n"
     ]
    }
   ],
   "source": [
    "# Проверим работу кода\n",
    "test = \"London is the capital of Great Britain\"\n",
    "print([lemmatizer.lemmatize(w, get_wordnet_pos(w)) for w in nltk.word_tokenize(test)])"
   ]
  },
  {
   "cell_type": "code",
   "execution_count": 12,
   "metadata": {},
   "outputs": [
    {
     "data": {
      "application/vnd.jupyter.widget-view+json": {
       "model_id": "c5cb25fa63844950bdde717ed006ecc5",
       "version_major": 2,
       "version_minor": 0
      },
      "text/plain": [
       "  0%|          | 0/159292 [00:00<?, ?it/s]"
      ]
     },
     "metadata": {},
     "output_type": "display_data"
    }
   ],
   "source": [
    "# Создадим функцию для обработки текста задания\n",
    "\n",
    "def lemma_function(text):\n",
    "    k = []\n",
    "    for i in nltk.word_tokenize(text):\n",
    "        y = lemmatizer.lemmatize(i, get_wordnet_pos(i))\n",
    "        k.append(y)\n",
    "    return ' '.join(k) \n",
    "\n",
    "lemy = []\n",
    "for i in tqdm(range(len(corpus))):\n",
    "    lemy.append(lemma_function(clear_text(corpus[i])))\n",
    "    \n",
    "data['lemm_text'] = pd.Series(lemy, index=data.index)"
   ]
  },
  {
   "cell_type": "code",
   "execution_count": 13,
   "metadata": {},
   "outputs": [
    {
     "data": {
      "text/html": [
       "<div>\n",
       "<style scoped>\n",
       "    .dataframe tbody tr th:only-of-type {\n",
       "        vertical-align: middle;\n",
       "    }\n",
       "\n",
       "    .dataframe tbody tr th {\n",
       "        vertical-align: top;\n",
       "    }\n",
       "\n",
       "    .dataframe thead th {\n",
       "        text-align: right;\n",
       "    }\n",
       "</style>\n",
       "<table border=\"1\" class=\"dataframe\">\n",
       "  <thead>\n",
       "    <tr style=\"text-align: right;\">\n",
       "      <th></th>\n",
       "      <th>text</th>\n",
       "      <th>toxic</th>\n",
       "      <th>lemm_text</th>\n",
       "    </tr>\n",
       "  </thead>\n",
       "  <tbody>\n",
       "    <tr>\n",
       "      <th>0</th>\n",
       "      <td>explanation\\nwhy the edits made under my usern...</td>\n",
       "      <td>0</td>\n",
       "      <td>explanation why the edits make under my userna...</td>\n",
       "    </tr>\n",
       "    <tr>\n",
       "      <th>1</th>\n",
       "      <td>d'aww! he matches this background colour i am ...</td>\n",
       "      <td>0</td>\n",
       "      <td>d'aww he match this background colour i be see...</td>\n",
       "    </tr>\n",
       "    <tr>\n",
       "      <th>2</th>\n",
       "      <td>hey man, i am really not trying to edit war. i...</td>\n",
       "      <td>0</td>\n",
       "      <td>hey man i be really not try to edit war it be ...</td>\n",
       "    </tr>\n",
       "    <tr>\n",
       "      <th>3</th>\n",
       "      <td>\"\\nmore\\ni cannot make any real suggestions on...</td>\n",
       "      <td>0</td>\n",
       "      <td>more i can not make any real suggestion on imp...</td>\n",
       "    </tr>\n",
       "    <tr>\n",
       "      <th>4</th>\n",
       "      <td>you, sir, are my hero. any chance you remember...</td>\n",
       "      <td>0</td>\n",
       "      <td>you sir be my hero any chance you remember wha...</td>\n",
       "    </tr>\n",
       "  </tbody>\n",
       "</table>\n",
       "</div>"
      ],
      "text/plain": [
       "                                                text  toxic  \\\n",
       "0  explanation\\nwhy the edits made under my usern...      0   \n",
       "1  d'aww! he matches this background colour i am ...      0   \n",
       "2  hey man, i am really not trying to edit war. i...      0   \n",
       "3  \"\\nmore\\ni cannot make any real suggestions on...      0   \n",
       "4  you, sir, are my hero. any chance you remember...      0   \n",
       "\n",
       "                                           lemm_text  \n",
       "0  explanation why the edits make under my userna...  \n",
       "1  d'aww he match this background colour i be see...  \n",
       "2  hey man i be really not try to edit war it be ...  \n",
       "3  more i can not make any real suggestion on imp...  \n",
       "4  you sir be my hero any chance you remember wha...  "
      ]
     },
     "execution_count": 13,
     "metadata": {},
     "output_type": "execute_result"
    }
   ],
   "source": [
    "# Проверим работу кода\n",
    "data.head()"
   ]
  },
  {
   "cell_type": "markdown",
   "metadata": {},
   "source": [
    "###  Проверка дисбаланса"
   ]
  },
  {
   "cell_type": "code",
   "execution_count": 14,
   "metadata": {},
   "outputs": [
    {
     "data": {
      "image/png": "[encoded data removed]",
      "text/plain": [
       "<Figure size 720x720 with 1 Axes>"
      ]
     },
     "metadata": {},
     "output_type": "display_data"
    }
   ],
   "source": [
    "data['toxic'].value_counts(normalize=True).plot(\n",
    "    kind='pie',\n",
    "    figsize=(10, 10),\n",
    "    labels=['Токсичный отзыв', 'Нетоксичный отзыв'],\n",
    "    autopct='%1.1f%%'\n",
    ")\n",
    "\n",
    "plt.title('Соотношение токсичности отзывов')\n",
    "plt.show()"
   ]
  },
  {
   "cell_type": "markdown",
   "metadata": {},
   "source": [
    "На графике заметно, что у нас есть большой дисбаланс между токсичными/не токсичными комментариями. Так как датасет очень большой, то нет смысла увеличивать не токсичные отзывы, что приведет к еще большему увеличению данных, поэтому уменьшим количество токсичных отзывов при помощи downsample."
   ]
  },
  {
   "cell_type": "markdown",
   "metadata": {},
   "source": [
    "### Стоп-слова"
   ]
  },
  {
   "attachments": {},
   "cell_type": "markdown",
   "metadata": {},
   "source": [
    "Нам необходимо разделить датасет на обучающую и тестовую выборку, чтобы убрать стоп-слова, так как функцию fit() необходимо выполнить только на обучающей. Иначе тестирование будет нечестным: в модели будут учтены частоты слов из тестовой выборки."
   ]
  },
  {
   "cell_type": "code",
   "execution_count": 15,
   "metadata": {},
   "outputs": [],
   "source": [
    "features = data['lemm_text']\n",
    "target = data['toxic']\n",
    "\n",
    "features_train, features_test, target_train, target_test = train_test_split(\n",
    "    features, target, test_size=0.25, random_state=RANDOM_STATE)"
   ]
  },
  {
   "cell_type": "markdown",
   "metadata": {},
   "source": [
    "<font color='blue'> После того, как была создана тренировочная выборка, сделаем на ней downsample. Для этого напишем функцию downsample, рандомно выберем из тренировочной выборки часть признаков и целей, слеим их через concat и потом также перемешаем.</font></div></font>"
   ]
  },
  {
   "cell_type": "code",
   "execution_count": 16,
   "metadata": {},
   "outputs": [
    {
     "name": "stdout",
     "output_type": "stream",
     "text": [
      "(44322,)\n",
      "(44322,)\n"
     ]
    }
   ],
   "source": [
    "#создадим функцию downsample\n",
    "\n",
    "def downsample(features, target, fraction):\n",
    "    \n",
    "    features_zeros = features[target == 0]\n",
    "    features_ones = features[target == 1]\n",
    "    target_zeros = target[target == 0]\n",
    "    target_ones = target[target == 1]\n",
    "    \n",
    "    features_sample = features_zeros.sample(frac=fraction, random_state=0)\n",
    "    target_sample = target_zeros.sample(frac=fraction, random_state=0)\n",
    "    \n",
    "    features_downsampled = pd.concat([features_sample] + [features_ones])\n",
    "    target_downsampled = pd.concat([target_sample] + [target_ones])\n",
    "    \n",
    "    features_downsampled = shuffle(features_downsampled, random_state=RANDOM_STATE)\n",
    "    target_downsampled = shuffle(target_downsampled, random_state=RANDOM_STATE)\n",
    "\n",
    "    \n",
    "    return features_downsampled, target_downsampled\n",
    "    \n",
    " \n",
    "features_downsampled, target_downsampled = downsample(features_train, target_train, 0.3)\n",
    "\n",
    "print(features_downsampled.shape)\n",
    "print(target_downsampled.shape)"
   ]
  },
  {
   "cell_type": "code",
   "execution_count": 17,
   "metadata": {},
   "outputs": [
    {
     "name": "stdout",
     "output_type": "stream",
     "text": [
      "Размер тренировочного датасета - 28%\n",
      "Размер тестового датасета - 25%\n"
     ]
    }
   ],
   "source": [
    "# Проверим результаты\n",
    "\n",
    "print('Размер тренировочного датасета - {:.0%}'.format(\n",
    "    features_downsampled.shape[0]/features.shape[0]))\n",
    "print('Размер тестового датасета - {:.0%}'.format(\n",
    "    features_test.shape[0]/features.shape[0]))"
   ]
  },
  {
   "cell_type": "code",
   "execution_count": 18,
   "metadata": {},
   "outputs": [],
   "source": [
    "# Создадим переменную для английского языка\n",
    "stopwords = set(nltk_stopwords.words('english'))\n",
    "\n",
    "# Создадим переменную для TFIDF-векторизатора\n",
    "count_tf_idf = TfidfVectorizer(stop_words=stopwords)\n",
    "\n",
    "# Запустим обработку обучающей и тестовой выборок\n",
    "features_downsampled = count_tf_idf.fit_transform(features_downsampled)\n",
    "features_test = count_tf_idf.transform(features_test)\n"
   ]
  },
  {
   "cell_type": "markdown",
   "metadata": {},
   "source": [
    "### Выводы по предобработке данных:\n",
    "\n",
    "- Данные поданы в правильных форматах, переформатирование не потребовалось,\n",
    "- Текстовые значения были обработаны по удалению апострофов, лемматизированны и избавлены от стоп-слов.\n",
    "- Изначальный дисбаланс токсичных и нетоксичных комментариев был убран при помощи модуля resample, а конкретно downsample, который сократил количество токсичных комментариев до количества нетоксичных. Это позволило также уменьшить изначальную выборку почти в пять раз, что также поможет увеличить скорость обработки данных."
   ]
  },
  {
   "cell_type": "markdown",
   "metadata": {},
   "source": [
    "## Обучение"
   ]
  },
  {
   "cell_type": "markdown",
   "metadata": {},
   "source": [
    "### DummyRegressor"
   ]
  },
  {
   "cell_type": "markdown",
   "metadata": {},
   "source": [
    "Для оценки результатов используем константную модель, которую создадим при помощи модуля DummyRegressor."
   ]
  },
  {
   "cell_type": "code",
   "execution_count": 19,
   "metadata": {},
   "outputs": [
    {
     "name": "stdout",
     "output_type": "stream",
     "text": [
      "F1 для DummyClassifier: 0.2723741839517395\n"
     ]
    }
   ],
   "source": [
    "# Инициализация модели DummyClassifier\n",
    "\n",
    "start = time.time()\n",
    "\n",
    "dummy = DummyClassifier(strategy='stratified', random_state=RANDOM_STATE)\n",
    "dummy.fit(features_downsampled, target_downsampled)\n",
    "predict_dummy = dummy.predict(features_downsampled)\n",
    "\n",
    "end = time.time()\n",
    "dummy_train_time = end - start\n",
    "\n",
    "dummy_f1 = f1_score(target_downsampled, predict_dummy)\n",
    "print('F1 для DummyClassifier:', dummy_f1)"
   ]
  },
  {
   "cell_type": "markdown",
   "metadata": {},
   "source": [
    "DummyRegressor выдал слабые результаты для F1-метрики."
   ]
  },
  {
   "cell_type": "markdown",
   "metadata": {},
   "source": [
    "### Логистическая регрессия на обучающей выборке"
   ]
  },
  {
   "cell_type": "code",
   "execution_count": 20,
   "metadata": {},
   "outputs": [
    {
     "name": "stdout",
     "output_type": "stream",
     "text": [
      "{'C': 1, 'penalty': 'l1'}\n",
      "F1 для LogisticRegression: 0.8510222256533242\n"
     ]
    }
   ],
   "source": [
    "# Инициализация модели Логистическая регрессия\n",
    "start = time.time()\n",
    "\n",
    "lr = LogisticRegression(fit_intercept=True, \n",
    "                        class_weight='balanced', \n",
    "                        random_state=RANDOM_STATE,\n",
    "                        solver='liblinear'\n",
    ")\n",
    "\n",
    "# Зададим параметры для GridSearch\n",
    "grid_values = {'penalty': ['l1','l2'],\n",
    "               'C': [0.001,0.01,0.1,1,10,100,1000]}\n",
    "\n",
    "grcv_lr = GridSearchCV(lr, param_grid=grid_values, scoring='f1', cv=5)\n",
    "grcv_lr.fit(features_downsampled, target_downsampled)\n",
    "\n",
    "end = time.time()\n",
    "lr_train_time = end - start\n",
    "\n",
    "# Определяем лучшие гиперпараметры и результат F1\n",
    "lr_params = grcv_lr.best_params_\n",
    "lr_score = grcv_lr.best_score_\n",
    "print(lr_params)\n",
    "print('F1 для LogisticRegression:', lr_score)\n",
    "\n"
   ]
  },
  {
   "attachments": {},
   "cell_type": "markdown",
   "metadata": {},
   "source": [
    "Результат, полученный при помощи модели Логистической регрессии уже достигнут для требуемого показателя метрики F1."
   ]
  },
  {
   "cell_type": "markdown",
   "metadata": {},
   "source": [
    "### Случайный лес на обучающей выборке\n"
   ]
  },
  {
   "cell_type": "code",
   "execution_count": 21,
   "metadata": {},
   "outputs": [
    {
     "name": "stdout",
     "output_type": "stream",
     "text": [
      "{'max_depth': 20, 'n_estimators': 50}\n",
      "F1 для RandomForest: 0.6587111871082428\n"
     ]
    }
   ],
   "source": [
    "# Инициализация модели Случайный лес\n",
    "start = time.time()\n",
    "\n",
    "rf = RandomForestClassifier(class_weight='balanced', random_state=RANDOM_STATE )\n",
    "\n",
    "# Зададим параметры для GridSearch\n",
    "rf_parameters = {'n_estimators' : [5, 10, 20, 30, 50],\n",
    "              'max_depth'    : [4, 6, 8, 10, 20]\n",
    "}\n",
    "\n",
    "#Применяю GridSearchCV с кросс-валидацией\n",
    "grcv_rf = GridSearchCV(rf, rf_parameters, scoring='f1', cv=5)\n",
    "grcv_rf.fit(features_downsampled, target_downsampled)\n",
    "\n",
    "end = time.time()\n",
    "rf_train_time = end - start\n",
    "\n",
    "# Определяем лучшие гиперпараметры и результат F1\n",
    "rf_params = grcv_rf.best_params_\n",
    "rf_score = grcv_rf.best_score_\n",
    "print(rf_params)\n",
    "print('F1 для RandomForest:', rf_score)"
   ]
  },
  {
   "attachments": {},
   "cell_type": "markdown",
   "metadata": {},
   "source": [
    "Результат, полученный при помощи модели Случайный лес ниже чем у Логистической регрессии, и не достиг требуемого результата F1 = 75."
   ]
  },
  {
   "cell_type": "markdown",
   "metadata": {},
   "source": [
    "### CatBoost"
   ]
  },
  {
   "cell_type": "code",
   "execution_count": 22,
   "metadata": {},
   "outputs": [
    {
     "name": "stdout",
     "output_type": "stream",
     "text": [
      "0:\tlearn: 0.5934736\ttotal: 275ms\tremaining: 40.9s\n",
      "10:\tlearn: 0.4032535\ttotal: 1.34s\tremaining: 16.9s\n",
      "20:\tlearn: 0.3653273\ttotal: 2.41s\tremaining: 14.8s\n",
      "30:\tlearn: 0.3422259\ttotal: 3.5s\tremaining: 13.4s\n",
      "40:\tlearn: 0.3263591\ttotal: 4.61s\tremaining: 12.2s\n",
      "50:\tlearn: 0.3128753\ttotal: 5.66s\tremaining: 11s\n",
      "60:\tlearn: 0.3017809\ttotal: 6.72s\tremaining: 9.81s\n",
      "70:\tlearn: 0.2913702\ttotal: 7.8s\tremaining: 8.68s\n",
      "80:\tlearn: 0.2822230\ttotal: 8.9s\tremaining: 7.58s\n",
      "90:\tlearn: 0.2743805\ttotal: 9.98s\tremaining: 6.47s\n",
      "100:\tlearn: 0.2678255\ttotal: 11s\tremaining: 5.35s\n",
      "110:\tlearn: 0.2616715\ttotal: 12.1s\tremaining: 4.25s\n",
      "120:\tlearn: 0.2559738\ttotal: 13.2s\tremaining: 3.16s\n",
      "130:\tlearn: 0.2516648\ttotal: 14.3s\tremaining: 2.08s\n",
      "140:\tlearn: 0.2477459\ttotal: 15.4s\tremaining: 982ms\n",
      "149:\tlearn: 0.2439032\ttotal: 16.4s\tremaining: 0us\n",
      "0:\tlearn: 0.5948750\ttotal: 131ms\tremaining: 19.5s\n",
      "10:\tlearn: 0.3999785\ttotal: 1.35s\tremaining: 17s\n",
      "20:\tlearn: 0.3644522\ttotal: 2.45s\tremaining: 15.1s\n",
      "30:\tlearn: 0.3435798\ttotal: 3.63s\tremaining: 14s\n",
      "40:\tlearn: 0.3259426\ttotal: 4.84s\tremaining: 12.9s\n",
      "50:\tlearn: 0.3119352\ttotal: 5.97s\tremaining: 11.6s\n",
      "60:\tlearn: 0.3018050\ttotal: 7.14s\tremaining: 10.4s\n",
      "70:\tlearn: 0.2919601\ttotal: 8.2s\tremaining: 9.13s\n",
      "80:\tlearn: 0.2838899\ttotal: 9.24s\tremaining: 7.88s\n",
      "90:\tlearn: 0.2759643\ttotal: 10.3s\tremaining: 6.69s\n",
      "100:\tlearn: 0.2692562\ttotal: 11.4s\tremaining: 5.52s\n",
      "110:\tlearn: 0.2631573\ttotal: 12.4s\tremaining: 4.37s\n",
      "120:\tlearn: 0.2584238\ttotal: 13.5s\tremaining: 3.23s\n",
      "130:\tlearn: 0.2530715\ttotal: 14.5s\tremaining: 2.1s\n",
      "140:\tlearn: 0.2482863\ttotal: 15.5s\tremaining: 992ms\n",
      "149:\tlearn: 0.2451463\ttotal: 16.5s\tremaining: 0us\n",
      "0:\tlearn: 0.5944017\ttotal: 113ms\tremaining: 16.8s\n",
      "10:\tlearn: 0.4017356\ttotal: 1.19s\tremaining: 15.1s\n",
      "20:\tlearn: 0.3635586\ttotal: 2.22s\tremaining: 13.7s\n",
      "30:\tlearn: 0.3416727\ttotal: 3.34s\tremaining: 12.8s\n",
      "40:\tlearn: 0.3232802\ttotal: 4.49s\tremaining: 11.9s\n",
      "50:\tlearn: 0.3102799\ttotal: 5.64s\tremaining: 10.9s\n",
      "60:\tlearn: 0.2986808\ttotal: 6.8s\tremaining: 9.92s\n",
      "70:\tlearn: 0.2888747\ttotal: 7.89s\tremaining: 8.78s\n",
      "80:\tlearn: 0.2796679\ttotal: 9.01s\tremaining: 7.67s\n",
      "90:\tlearn: 0.2726669\ttotal: 10.1s\tremaining: 6.56s\n",
      "100:\tlearn: 0.2663929\ttotal: 11.2s\tremaining: 5.45s\n",
      "110:\tlearn: 0.2611344\ttotal: 12.4s\tremaining: 4.35s\n",
      "120:\tlearn: 0.2558364\ttotal: 13.5s\tremaining: 3.23s\n",
      "130:\tlearn: 0.2506432\ttotal: 14.6s\tremaining: 2.12s\n",
      "140:\tlearn: 0.2463780\ttotal: 15.7s\tremaining: 1s\n",
      "149:\tlearn: 0.2428458\ttotal: 16.7s\tremaining: 0us\n",
      "0:\tlearn: 0.5933099\ttotal: 116ms\tremaining: 17.2s\n",
      "10:\tlearn: 0.4032322\ttotal: 1.2s\tremaining: 15.1s\n",
      "20:\tlearn: 0.3650343\ttotal: 2.28s\tremaining: 14s\n",
      "30:\tlearn: 0.3419647\ttotal: 3.37s\tremaining: 12.9s\n",
      "40:\tlearn: 0.3275021\ttotal: 4.46s\tremaining: 11.9s\n",
      "50:\tlearn: 0.3135326\ttotal: 5.56s\tremaining: 10.8s\n",
      "60:\tlearn: 0.3025564\ttotal: 6.66s\tremaining: 9.71s\n",
      "70:\tlearn: 0.2923089\ttotal: 7.74s\tremaining: 8.61s\n",
      "80:\tlearn: 0.2829979\ttotal: 8.82s\tremaining: 7.51s\n",
      "90:\tlearn: 0.2748778\ttotal: 9.89s\tremaining: 6.41s\n",
      "100:\tlearn: 0.2683522\ttotal: 10.9s\tremaining: 5.31s\n",
      "110:\tlearn: 0.2622984\ttotal: 12s\tremaining: 4.21s\n",
      "120:\tlearn: 0.2571663\ttotal: 13.1s\tremaining: 3.13s\n",
      "130:\tlearn: 0.2525720\ttotal: 14.1s\tremaining: 2.05s\n",
      "140:\tlearn: 0.2485260\ttotal: 15.2s\tremaining: 971ms\n",
      "149:\tlearn: 0.2448456\ttotal: 16.2s\tremaining: 0us\n",
      "0:\tlearn: 0.5923294\ttotal: 119ms\tremaining: 17.8s\n",
      "10:\tlearn: 0.4014117\ttotal: 1.18s\tremaining: 15s\n",
      "20:\tlearn: 0.3622351\ttotal: 2.27s\tremaining: 13.9s\n",
      "30:\tlearn: 0.3404753\ttotal: 3.35s\tremaining: 12.9s\n",
      "40:\tlearn: 0.3243640\ttotal: 4.43s\tremaining: 11.8s\n",
      "50:\tlearn: 0.3119243\ttotal: 5.5s\tremaining: 10.7s\n",
      "60:\tlearn: 0.2999615\ttotal: 6.56s\tremaining: 9.57s\n",
      "70:\tlearn: 0.2903057\ttotal: 7.63s\tremaining: 8.49s\n",
      "80:\tlearn: 0.2810943\ttotal: 8.72s\tremaining: 7.43s\n",
      "90:\tlearn: 0.2728655\ttotal: 9.79s\tremaining: 6.34s\n",
      "100:\tlearn: 0.2662268\ttotal: 10.9s\tremaining: 5.26s\n",
      "110:\tlearn: 0.2595492\ttotal: 11.9s\tremaining: 4.2s\n",
      "120:\tlearn: 0.2548169\ttotal: 13s\tremaining: 3.12s\n",
      "130:\tlearn: 0.2499971\ttotal: 14.1s\tremaining: 2.05s\n",
      "140:\tlearn: 0.2450350\ttotal: 15.2s\tremaining: 969ms\n",
      "149:\tlearn: 0.2414271\ttotal: 16.2s\tremaining: 0us\n",
      "0:\tlearn: 0.5869098\ttotal: 692ms\tremaining: 1m 43s\n",
      "10:\tlearn: 0.3666482\ttotal: 6.75s\tremaining: 1m 25s\n",
      "20:\tlearn: 0.3279215\ttotal: 12.8s\tremaining: 1m 18s\n",
      "30:\tlearn: 0.3032500\ttotal: 18.8s\tremaining: 1m 12s\n",
      "40:\tlearn: 0.2869336\ttotal: 24.7s\tremaining: 1m 5s\n",
      "50:\tlearn: 0.2734793\ttotal: 30.7s\tremaining: 59.6s\n",
      "60:\tlearn: 0.2609373\ttotal: 36.6s\tremaining: 53.5s\n",
      "70:\tlearn: 0.2501943\ttotal: 42.6s\tremaining: 47.4s\n",
      "80:\tlearn: 0.2403929\ttotal: 48.5s\tremaining: 41.3s\n",
      "90:\tlearn: 0.2328203\ttotal: 54.5s\tremaining: 35.3s\n",
      "100:\tlearn: 0.2260275\ttotal: 1m\tremaining: 29.4s\n",
      "110:\tlearn: 0.2201244\ttotal: 1m 6s\tremaining: 23.4s\n",
      "120:\tlearn: 0.2145731\ttotal: 1m 12s\tremaining: 17.3s\n",
      "130:\tlearn: 0.2095168\ttotal: 1m 18s\tremaining: 11.3s\n",
      "140:\tlearn: 0.2050819\ttotal: 1m 24s\tremaining: 5.37s\n",
      "149:\tlearn: 0.2012484\ttotal: 1m 29s\tremaining: 0us\n",
      "0:\tlearn: 0.5823594\ttotal: 637ms\tremaining: 1m 34s\n",
      "10:\tlearn: 0.3673333\ttotal: 6.51s\tremaining: 1m 22s\n",
      "20:\tlearn: 0.3275991\ttotal: 12.4s\tremaining: 1m 16s\n",
      "30:\tlearn: 0.3023785\ttotal: 18.3s\tremaining: 1m 10s\n",
      "40:\tlearn: 0.2861202\ttotal: 24.2s\tremaining: 1m 4s\n",
      "50:\tlearn: 0.2733040\ttotal: 30.1s\tremaining: 58.4s\n",
      "60:\tlearn: 0.2608430\ttotal: 36s\tremaining: 52.5s\n",
      "70:\tlearn: 0.2501265\ttotal: 41.8s\tremaining: 46.5s\n",
      "80:\tlearn: 0.2406230\ttotal: 47.7s\tremaining: 40.6s\n",
      "90:\tlearn: 0.2332977\ttotal: 53.6s\tremaining: 34.8s\n",
      "100:\tlearn: 0.2263506\ttotal: 59.5s\tremaining: 28.8s\n",
      "110:\tlearn: 0.2199756\ttotal: 1m 5s\tremaining: 23s\n",
      "120:\tlearn: 0.2141937\ttotal: 1m 11s\tremaining: 17.1s\n",
      "130:\tlearn: 0.2097694\ttotal: 1m 17s\tremaining: 11.2s\n",
      "140:\tlearn: 0.2052661\ttotal: 1m 22s\tremaining: 5.29s\n",
      "149:\tlearn: 0.2011176\ttotal: 1m 28s\tremaining: 0us\n",
      "0:\tlearn: 0.5890186\ttotal: 628ms\tremaining: 1m 33s\n",
      "10:\tlearn: 0.3650035\ttotal: 6.56s\tremaining: 1m 22s\n",
      "20:\tlearn: 0.3231283\ttotal: 12.4s\tremaining: 1m 16s\n",
      "30:\tlearn: 0.2998947\ttotal: 18.3s\tremaining: 1m 10s\n",
      "40:\tlearn: 0.2840692\ttotal: 24.2s\tremaining: 1m 4s\n",
      "50:\tlearn: 0.2704434\ttotal: 30.1s\tremaining: 58.4s\n",
      "60:\tlearn: 0.2574573\ttotal: 36.1s\tremaining: 52.6s\n",
      "70:\tlearn: 0.2473877\ttotal: 41.9s\tremaining: 46.6s\n",
      "80:\tlearn: 0.2386577\ttotal: 47.8s\tremaining: 40.7s\n",
      "90:\tlearn: 0.2309170\ttotal: 53.7s\tremaining: 34.8s\n",
      "100:\tlearn: 0.2237343\ttotal: 59.6s\tremaining: 28.9s\n",
      "110:\tlearn: 0.2179132\ttotal: 1m 5s\tremaining: 23s\n",
      "120:\tlearn: 0.2124819\ttotal: 1m 11s\tremaining: 17.1s\n",
      "130:\tlearn: 0.2075004\ttotal: 1m 17s\tremaining: 11.2s\n",
      "140:\tlearn: 0.2034036\ttotal: 1m 22s\tremaining: 5.3s\n",
      "149:\tlearn: 0.1998058\ttotal: 1m 28s\tremaining: 0us\n",
      "0:\tlearn: 0.5932349\ttotal: 621ms\tremaining: 1m 32s\n",
      "10:\tlearn: 0.3682810\ttotal: 6.51s\tremaining: 1m 22s\n",
      "20:\tlearn: 0.3258354\ttotal: 12.4s\tremaining: 1m 15s\n",
      "30:\tlearn: 0.3033818\ttotal: 18.3s\tremaining: 1m 10s\n",
      "40:\tlearn: 0.2872210\ttotal: 24.2s\tremaining: 1m 4s\n",
      "50:\tlearn: 0.2732298\ttotal: 30.1s\tremaining: 58.5s\n",
      "60:\tlearn: 0.2605178\ttotal: 36.1s\tremaining: 52.6s\n",
      "70:\tlearn: 0.2498547\ttotal: 42s\tremaining: 46.7s\n",
      "80:\tlearn: 0.2408677\ttotal: 47.8s\tremaining: 40.7s\n",
      "90:\tlearn: 0.2329689\ttotal: 53.7s\tremaining: 34.8s\n",
      "100:\tlearn: 0.2259299\ttotal: 59.5s\tremaining: 28.9s\n",
      "110:\tlearn: 0.2199216\ttotal: 1m 5s\tremaining: 22.9s\n",
      "120:\tlearn: 0.2145021\ttotal: 1m 11s\tremaining: 17.1s\n",
      "130:\tlearn: 0.2090354\ttotal: 1m 17s\tremaining: 11.2s\n",
      "140:\tlearn: 0.2052190\ttotal: 1m 22s\tremaining: 5.29s\n",
      "149:\tlearn: 0.2008043\ttotal: 1m 28s\tremaining: 0us\n",
      "0:\tlearn: 0.5880946\ttotal: 640ms\tremaining: 1m 35s\n",
      "10:\tlearn: 0.3670171\ttotal: 6.57s\tremaining: 1m 23s\n",
      "20:\tlearn: 0.3253460\ttotal: 12.5s\tremaining: 1m 16s\n",
      "30:\tlearn: 0.3003799\ttotal: 18.4s\tremaining: 1m 10s\n",
      "40:\tlearn: 0.2833356\ttotal: 24.2s\tremaining: 1m 4s\n",
      "50:\tlearn: 0.2704005\ttotal: 30.2s\tremaining: 58.5s\n",
      "60:\tlearn: 0.2582206\ttotal: 36s\tremaining: 52.5s\n",
      "70:\tlearn: 0.2475565\ttotal: 41.9s\tremaining: 46.6s\n",
      "80:\tlearn: 0.2382511\ttotal: 47.7s\tremaining: 40.7s\n",
      "90:\tlearn: 0.2299848\ttotal: 53.6s\tremaining: 34.8s\n",
      "100:\tlearn: 0.2235444\ttotal: 59.5s\tremaining: 28.9s\n",
      "110:\tlearn: 0.2181157\ttotal: 1m 5s\tremaining: 23s\n",
      "120:\tlearn: 0.2126597\ttotal: 1m 11s\tremaining: 17.1s\n",
      "130:\tlearn: 0.2069026\ttotal: 1m 17s\tremaining: 11.2s\n",
      "140:\tlearn: 0.2025217\ttotal: 1m 22s\tremaining: 5.3s\n",
      "149:\tlearn: 0.1992256\ttotal: 1m 28s\tremaining: 0us\n",
      "0:\tlearn: 0.5824122\ttotal: 742ms\tremaining: 1m 50s\n",
      "10:\tlearn: 0.3650532\ttotal: 7.73s\tremaining: 1m 37s\n",
      "20:\tlearn: 0.3243322\ttotal: 14.8s\tremaining: 1m 31s\n",
      "30:\tlearn: 0.3018115\ttotal: 22.2s\tremaining: 1m 25s\n",
      "40:\tlearn: 0.2861996\ttotal: 29.3s\tremaining: 1m 17s\n",
      "50:\tlearn: 0.2719399\ttotal: 36.2s\tremaining: 1m 10s\n",
      "60:\tlearn: 0.2604006\ttotal: 43.2s\tremaining: 1m 2s\n",
      "70:\tlearn: 0.2505729\ttotal: 50.1s\tremaining: 55.7s\n",
      "80:\tlearn: 0.2422491\ttotal: 57s\tremaining: 48.5s\n",
      "90:\tlearn: 0.2343018\ttotal: 1m 3s\tremaining: 41.4s\n",
      "100:\tlearn: 0.2277947\ttotal: 1m 10s\tremaining: 34.4s\n",
      "110:\tlearn: 0.2213714\ttotal: 1m 17s\tremaining: 27.3s\n",
      "120:\tlearn: 0.2169977\ttotal: 1m 24s\tremaining: 20.3s\n",
      "130:\tlearn: 0.2119574\ttotal: 1m 31s\tremaining: 13.3s\n",
      "140:\tlearn: 0.2073903\ttotal: 1m 38s\tremaining: 6.28s\n",
      "149:\tlearn: 0.2037810\ttotal: 1m 44s\tremaining: 0us\n",
      "{'depth': 8}\n",
      "F1 для CatBoost: 0.8157407369717447\n"
     ]
    }
   ],
   "source": [
    "# Инициализация модели Категориальный бустинг\n",
    "start = time.time()\n",
    "\n",
    "cbс = CatBoostClassifier(random_state=RANDOM_STATE, learning_rate=0.2,\n",
    "                         verbose=10, n_estimators=150)\n",
    "# Зададим параметры для GridSearch\n",
    "cbс_parametrs = {'depth': [4, 8]}\n",
    "\n",
    "grcv_cbc = GridSearchCV(cbс, cbс_parametrs, scoring='f1', cv=5)\n",
    "grcv_cbc.fit(features_downsampled, target_downsampled, verbose=10)\n",
    "\n",
    "end = time.time()\n",
    "cbc_train_time = end - start\n",
    "\n",
    "# Определяем лучшие гиперпараметры и результат F1\n",
    "cbc_params = grcv_cbc.best_params_\n",
    "cbc_score = grcv_cbc.best_score_\n",
    "print(cbc_params)\n",
    "print('F1 для CatBoost:', cbc_score)"
   ]
  },
  {
   "attachments": {},
   "cell_type": "markdown",
   "metadata": {},
   "source": [
    "Результат F1 = 0.81 на модели Категориальный Бустинг чуть ниже, чем у модели Логистической регрессии."
   ]
  },
  {
   "cell_type": "markdown",
   "metadata": {},
   "source": [
    "### LGBMClassifier"
   ]
  },
  {
   "cell_type": "code",
   "execution_count": 23,
   "metadata": {},
   "outputs": [
    {
     "name": "stdout",
     "output_type": "stream",
     "text": [
      "{'clf__learning_rate': 0.15, 'clf__max_depth': 8, 'clf__n_estimators': 200}\n",
      "F1 для LGBMClassifier: 0.8214452182049256\n"
     ]
    }
   ],
   "source": [
    "# Инициализация модели LGBMClassifier\n",
    "start = time.time()\n",
    "\n",
    "lgb = LGBMClassifier(random_state=RANDOM_STATE)\n",
    "\n",
    "# Зададим параметры для GridSearch\n",
    "params = {\n",
    "  'clf__n_estimators': [200],\n",
    "  'clf__learning_rate': [0.15, 0.25],\n",
    "  'clf__max_depth': [8, 10, -1]}\n",
    "\n",
    "lgb_grid = GridSearchCV(estimator=lgb, param_grid=params, cv=5, scoring='f1', n_jobs=-1, refit=False)\n",
    "lgb_grid.fit(features_downsampled, target_downsampled)\n",
    "\n",
    "end = time.time()\n",
    "lgb_train_time = end - start\n",
    "\n",
    "lgb_best_params = lgb_grid.best_params_\n",
    "lgb_best_score = lgb_grid.best_score_\n",
    "\n",
    "# Определяем лучшие гиперпараметры и результат F1\n",
    "print(lgb_best_params)\n",
    "print('F1 для LGBMClassifier:', lgb_grid.best_score_)"
   ]
  },
  {
   "attachments": {},
   "cell_type": "markdown",
   "metadata": {},
   "source": [
    "Результат F1 = 0.82 на модели LightGBM чуть выше, чем у Категориального бустинга, и также соответствует требуемому."
   ]
  },
  {
   "cell_type": "markdown",
   "metadata": {},
   "source": [
    "### Тестирование"
   ]
  },
  {
   "cell_type": "markdown",
   "metadata": {},
   "source": [
    "Категориальный бустинг"
   ]
  },
  {
   "cell_type": "code",
   "execution_count": 26,
   "metadata": {},
   "outputs": [
    {
     "name": "stdout",
     "output_type": "stream",
     "text": [
      "Learning rate set to 0.052004\n",
      "0:\tlearn: 0.6598429\ttotal: 775ms\tremaining: 12m 54s\n",
      "10:\tlearn: 0.4835254\ttotal: 7.7s\tremaining: 11m 32s\n",
      "20:\tlearn: 0.4213482\ttotal: 14.6s\tremaining: 11m 19s\n",
      "30:\tlearn: 0.3897115\ttotal: 21.4s\tremaining: 11m 9s\n",
      "40:\tlearn: 0.3694682\ttotal: 28.3s\tremaining: 11m 1s\n",
      "50:\tlearn: 0.3558131\ttotal: 35.2s\tremaining: 10m 55s\n",
      "60:\tlearn: 0.3445379\ttotal: 42.4s\tremaining: 10m 53s\n",
      "70:\tlearn: 0.3349873\ttotal: 49.6s\tremaining: 10m 48s\n",
      "80:\tlearn: 0.3274866\ttotal: 56.6s\tremaining: 10m 42s\n",
      "90:\tlearn: 0.3207250\ttotal: 1m 3s\tremaining: 10m 37s\n",
      "100:\tlearn: 0.3147739\ttotal: 1m 10s\tremaining: 10m 31s\n",
      "110:\tlearn: 0.3090008\ttotal: 1m 18s\tremaining: 10m 25s\n",
      "120:\tlearn: 0.3042243\ttotal: 1m 25s\tremaining: 10m 18s\n",
      "130:\tlearn: 0.2994550\ttotal: 1m 32s\tremaining: 10m 12s\n",
      "140:\tlearn: 0.2946378\ttotal: 1m 39s\tremaining: 10m 4s\n",
      "150:\tlearn: 0.2905317\ttotal: 1m 46s\tremaining: 9m 58s\n",
      "160:\tlearn: 0.2867048\ttotal: 1m 53s\tremaining: 9m 53s\n",
      "170:\tlearn: 0.2833794\ttotal: 2m\tremaining: 9m 46s\n",
      "180:\tlearn: 0.2801274\ttotal: 2m 8s\tremaining: 9m 39s\n",
      "190:\tlearn: 0.2770560\ttotal: 2m 14s\tremaining: 9m 31s\n",
      "200:\tlearn: 0.2738771\ttotal: 2m 22s\tremaining: 9m 24s\n",
      "210:\tlearn: 0.2708329\ttotal: 2m 29s\tremaining: 9m 17s\n",
      "220:\tlearn: 0.2673998\ttotal: 2m 36s\tremaining: 9m 11s\n",
      "230:\tlearn: 0.2646226\ttotal: 2m 43s\tremaining: 9m 5s\n",
      "240:\tlearn: 0.2613244\ttotal: 2m 50s\tremaining: 8m 58s\n",
      "250:\tlearn: 0.2585496\ttotal: 2m 58s\tremaining: 8m 51s\n",
      "260:\tlearn: 0.2558896\ttotal: 3m 5s\tremaining: 8m 43s\n",
      "270:\tlearn: 0.2532248\ttotal: 3m 12s\tremaining: 8m 36s\n",
      "280:\tlearn: 0.2508157\ttotal: 3m 18s\tremaining: 8m 28s\n",
      "290:\tlearn: 0.2485160\ttotal: 3m 25s\tremaining: 8m 21s\n",
      "300:\tlearn: 0.2462523\ttotal: 3m 32s\tremaining: 8m 13s\n",
      "310:\tlearn: 0.2438186\ttotal: 3m 39s\tremaining: 8m 6s\n",
      "320:\tlearn: 0.2416186\ttotal: 3m 46s\tremaining: 7m 59s\n",
      "330:\tlearn: 0.2397032\ttotal: 3m 53s\tremaining: 7m 51s\n",
      "340:\tlearn: 0.2377007\ttotal: 4m\tremaining: 7m 44s\n",
      "350:\tlearn: 0.2357210\ttotal: 4m 7s\tremaining: 7m 37s\n",
      "360:\tlearn: 0.2338488\ttotal: 4m 14s\tremaining: 7m 29s\n",
      "370:\tlearn: 0.2319763\ttotal: 4m 21s\tremaining: 7m 22s\n",
      "380:\tlearn: 0.2304588\ttotal: 4m 27s\tremaining: 7m 15s\n",
      "390:\tlearn: 0.2287412\ttotal: 4m 34s\tremaining: 7m 8s\n",
      "400:\tlearn: 0.2270997\ttotal: 4m 41s\tremaining: 7m 1s\n",
      "410:\tlearn: 0.2255872\ttotal: 4m 48s\tremaining: 6m 54s\n",
      "420:\tlearn: 0.2239569\ttotal: 4m 55s\tremaining: 6m 46s\n",
      "430:\tlearn: 0.2223699\ttotal: 5m 2s\tremaining: 6m 39s\n",
      "440:\tlearn: 0.2209873\ttotal: 5m 9s\tremaining: 6m 32s\n",
      "450:\tlearn: 0.2196585\ttotal: 5m 16s\tremaining: 6m 25s\n",
      "460:\tlearn: 0.2182898\ttotal: 5m 23s\tremaining: 6m 18s\n",
      "470:\tlearn: 0.2168601\ttotal: 5m 30s\tremaining: 6m 11s\n",
      "480:\tlearn: 0.2155561\ttotal: 5m 37s\tremaining: 6m 4s\n",
      "490:\tlearn: 0.2142398\ttotal: 5m 44s\tremaining: 5m 57s\n",
      "500:\tlearn: 0.2128140\ttotal: 5m 51s\tremaining: 5m 49s\n",
      "510:\tlearn: 0.2114892\ttotal: 5m 58s\tremaining: 5m 42s\n",
      "520:\tlearn: 0.2102876\ttotal: 6m 5s\tremaining: 5m 35s\n",
      "530:\tlearn: 0.2091261\ttotal: 6m 12s\tremaining: 5m 28s\n",
      "540:\tlearn: 0.2079371\ttotal: 6m 18s\tremaining: 5m 21s\n",
      "550:\tlearn: 0.2067245\ttotal: 6m 25s\tremaining: 5m 14s\n",
      "560:\tlearn: 0.2057039\ttotal: 6m 32s\tremaining: 5m 7s\n",
      "570:\tlearn: 0.2048302\ttotal: 6m 39s\tremaining: 5m\n",
      "580:\tlearn: 0.2037964\ttotal: 6m 46s\tremaining: 4m 53s\n",
      "590:\tlearn: 0.2025221\ttotal: 6m 53s\tremaining: 4m 46s\n",
      "600:\tlearn: 0.2015063\ttotal: 7m\tremaining: 4m 39s\n",
      "610:\tlearn: 0.2004619\ttotal: 7m 7s\tremaining: 4m 31s\n",
      "620:\tlearn: 0.1993729\ttotal: 7m 14s\tremaining: 4m 24s\n",
      "630:\tlearn: 0.1986682\ttotal: 7m 20s\tremaining: 4m 17s\n",
      "640:\tlearn: 0.1976223\ttotal: 7m 27s\tremaining: 4m 10s\n",
      "650:\tlearn: 0.1966924\ttotal: 7m 34s\tremaining: 4m 3s\n",
      "660:\tlearn: 0.1956749\ttotal: 7m 41s\tremaining: 3m 56s\n",
      "670:\tlearn: 0.1949434\ttotal: 7m 48s\tremaining: 3m 49s\n",
      "680:\tlearn: 0.1940149\ttotal: 7m 55s\tremaining: 3m 42s\n",
      "690:\tlearn: 0.1931311\ttotal: 8m 2s\tremaining: 3m 35s\n",
      "700:\tlearn: 0.1923172\ttotal: 8m 9s\tremaining: 3m 28s\n",
      "710:\tlearn: 0.1914889\ttotal: 8m 15s\tremaining: 3m 21s\n",
      "720:\tlearn: 0.1905267\ttotal: 8m 22s\tremaining: 3m 14s\n",
      "730:\tlearn: 0.1898043\ttotal: 8m 29s\tremaining: 3m 7s\n",
      "740:\tlearn: 0.1889276\ttotal: 8m 36s\tremaining: 3m\n",
      "750:\tlearn: 0.1882056\ttotal: 8m 43s\tremaining: 2m 53s\n",
      "760:\tlearn: 0.1875413\ttotal: 8m 50s\tremaining: 2m 46s\n",
      "770:\tlearn: 0.1866754\ttotal: 8m 57s\tremaining: 2m 39s\n",
      "780:\tlearn: 0.1858597\ttotal: 9m 4s\tremaining: 2m 32s\n",
      "790:\tlearn: 0.1850490\ttotal: 9m 10s\tremaining: 2m 25s\n",
      "800:\tlearn: 0.1843579\ttotal: 9m 17s\tremaining: 2m 18s\n",
      "810:\tlearn: 0.1836231\ttotal: 9m 24s\tremaining: 2m 11s\n",
      "820:\tlearn: 0.1826808\ttotal: 9m 31s\tremaining: 2m 4s\n",
      "830:\tlearn: 0.1819496\ttotal: 9m 38s\tremaining: 1m 57s\n",
      "840:\tlearn: 0.1812014\ttotal: 9m 45s\tremaining: 1m 50s\n",
      "850:\tlearn: 0.1805657\ttotal: 9m 52s\tremaining: 1m 43s\n",
      "860:\tlearn: 0.1798584\ttotal: 9m 59s\tremaining: 1m 36s\n",
      "870:\tlearn: 0.1791453\ttotal: 10m 5s\tremaining: 1m 29s\n",
      "880:\tlearn: 0.1784753\ttotal: 10m 12s\tremaining: 1m 22s\n",
      "890:\tlearn: 0.1778390\ttotal: 10m 19s\tremaining: 1m 15s\n",
      "900:\tlearn: 0.1772021\ttotal: 10m 26s\tremaining: 1m 8s\n",
      "910:\tlearn: 0.1765078\ttotal: 10m 33s\tremaining: 1m 1s\n",
      "920:\tlearn: 0.1760325\ttotal: 10m 40s\tremaining: 54.9s\n",
      "930:\tlearn: 0.1752741\ttotal: 10m 47s\tremaining: 48s\n",
      "940:\tlearn: 0.1746717\ttotal: 10m 53s\tremaining: 41s\n",
      "950:\tlearn: 0.1740775\ttotal: 11m\tremaining: 34s\n",
      "960:\tlearn: 0.1733528\ttotal: 11m 7s\tremaining: 27.1s\n",
      "970:\tlearn: 0.1726560\ttotal: 11m 14s\tremaining: 20.1s\n",
      "980:\tlearn: 0.1720413\ttotal: 11m 21s\tremaining: 13.2s\n",
      "990:\tlearn: 0.1713929\ttotal: 11m 28s\tremaining: 6.25s\n",
      "999:\tlearn: 0.1708237\ttotal: 11m 34s\tremaining: 0us\n",
      "F1 для CatBoost: 0.78175\n"
     ]
    }
   ],
   "source": [
    "cbc_model = CatBoostClassifier(depth = 8)\n",
    "cbc_model.fit(features_downsampled, target_downsampled, verbose=10)\n",
    "cbc_model_predictions = cbc_model.predict(features_test)\n",
    "\n",
    "cbc_f1_test = f1_score(target_test, cbc_model_predictions)\n",
    "print('F1 для CatBoost:', cbc_f1_test)"
   ]
  },
  {
   "attachments": {},
   "cell_type": "markdown",
   "metadata": {},
   "source": [
    "На тестовой выборке для Категориального бустинга F1 = 0,78, что соответствует требуемому порогу в 0,75."
   ]
  },
  {
   "cell_type": "markdown",
   "metadata": {},
   "source": [
    "## Выводы"
   ]
  },
  {
   "attachments": {},
   "cell_type": "markdown",
   "metadata": {},
   "source": [
    "- Данные были загружены и изучены,\n",
    "- Обработка пропусков и дубликатов не потребовалась,\n",
    "- Была проведена лемматизация и векторизация текстовых данных с последующим созданием мешка слов,\n",
    "- Были убраны стоп-слова при помощи библиотеки nltk,\n",
    "- Был исправлен дисбаланс токсичных и нетоксичных комментариев с использованием модели downsample, благодаря чему исходные данные уменьшились в размере, чем ускорили время работы моделей при обучении и тестировании,\n",
    "- Требуемые результат был достигнут на модели Категориального бустинга."
   ]
  },
  {
   "cell_type": "markdown",
   "metadata": {},
   "source": [
    "## Чек-лист проверки"
   ]
  },
  {
   "cell_type": "markdown",
   "metadata": {},
   "source": [
    "- [x]  Jupyter Notebook открыт\n",
    "- [x]  Весь код выполняется без ошибок\n",
    "- [x]  Ячейки с кодом расположены в порядке исполнения\n",
    "- [x]  Данные загружены и подготовлены\n",
    "- [x]  Модели обучены\n",
    "- [x]  Значение метрики *F1* не меньше 0.75\n",
    "- [x]  Выводы написаны"
   ]
  },
  {
   "cell_type": "markdown",
   "metadata": {},
   "source": []
  }
 ],
 "metadata": {
  "kernelspec": {
   "display_name": "Python 3 (ipykernel)",
   "language": "python",
   "name": "python3"
  },
  "language_info": {
   "codemirror_mode": {
    "name": "ipython",
    "version": 3
   },
   "file_extension": ".py",
   "mimetype": "text/x-python",
   "name": "python",
   "nbconvert_exporter": "python",
   "pygments_lexer": "ipython3",
   "version": "3.10.5"
  },
  "toc": {
   "base_numbering": 1,
   "nav_menu": {},
   "number_sections": true,
   "sideBar": true,
   "skip_h1_title": true,
   "title_cell": "Содержание",
   "title_sidebar": "Contents",
   "toc_cell": true,
   "toc_position": {
    "height": "calc(100% - 180px)",
    "left": "10px",
    "top": "150px",
    "width": "302.391px"
   },
   "toc_section_display": true,
   "toc_window_display": false
  },
  "vscode": {
   "interpreter": {
    "hash": "26de051ba29f2982a8de78e945f0abaf191376122a1563185a90213a26c5da77"
   }
  }
 },
 "nbformat": 4,
 "nbformat_minor": 2
}
